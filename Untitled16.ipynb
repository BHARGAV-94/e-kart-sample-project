{
 "cells": [
  {
   "cell_type": "code",
   "execution_count": 1,
   "metadata": {},
   "outputs": [
    {
     "name": "stdout",
     "output_type": "stream",
     "text": [
      "PVM DC\n",
      "FRESH OFD=1\n",
      "FRESH DEL=1\n",
      "FDDS= 100.0\n",
      "RAD OFD=0\n",
      "RAD DEL=0\n",
      "RAD--->=0%\n",
      "RVP OFD=0\n",
      "RVP DEL=0\n",
      "RVP--->=0%\n",
      "EDS OFD=1\n",
      "EDS DEL=1\n",
      "EDS Del= 100.0\n",
      "PVM DC Final Report Sir..!    @Rajesh\n"
     ]
    }
   ],
   "source": [
    "name=\"PVM DC\"\n",
    "print(name)\n",
    "#.....................................................................Bhargav Ram\n",
    "a=eval(input(\"FRESH OFD=\"))\n",
    "b=eval(input(\"FRESH DEL=\"))\n",
    "try:\n",
    "    c= (b/a)*100\n",
    "    print(\"FDDS=\",c)\n",
    "except ZeroDivisionError:\n",
    "    print (\"FDD--->=0%\" )\n",
    "#.....................................................................Bhargav Ram\n",
    "c=eval(input(\"RAD OFD=\"))\n",
    "d=eval(input(\"RAD DEL=\"))\n",
    "try:\n",
    "    e= (d/c)*100\n",
    "    print(\"RAD Del=\",e)\n",
    "except ZeroDivisionError:\n",
    "    print(\"RAD--->=0%\")\n",
    "#.....................................................................Bhargav Ram\n",
    "e=eval(input(\"RVP OFD=\"))\n",
    "f=eval(input(\"RVP DEL=\"))\n",
    "try:\n",
    "    g= (f/e)*100\n",
    "    print(\"RVP Del=\",e)\n",
    "except ZeroDivisionError:\n",
    "    print (\"RVP--->=0%\" )\n",
    "#.....................................................................Bhargav Ram \n",
    "h=eval(input(\"EDS OFD=\"))\n",
    "i=eval(input(\"EDS DEL=\"))\n",
    "try:\n",
    "    j= (i/h)*100\n",
    "    print(\"EDS Del=\",j)\n",
    "except ZeroDivisionError:\n",
    "    print (\"EDDS--->==0%\" )\n",
    "#.....................................................................Bhargav Ram            \n",
    "print(\"PVM DC Final Report Sir..!    @Rajesh\")"
   ]
  },
  {
   "cell_type": "code",
   "execution_count": null,
   "metadata": {},
   "outputs": [],
   "source": []
  }
 ],
 "metadata": {
  "kernelspec": {
   "display_name": "Python 3",
   "language": "python",
   "name": "python3"
  },
  "language_info": {
   "codemirror_mode": {
    "name": "ipython",
    "version": 3
   },
   "file_extension": ".py",
   "mimetype": "text/x-python",
   "name": "python",
   "nbconvert_exporter": "python",
   "pygments_lexer": "ipython3",
   "version": "3.7.6"
  }
 },
 "nbformat": 4,
 "nbformat_minor": 4
}
